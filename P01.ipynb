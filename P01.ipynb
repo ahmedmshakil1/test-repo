{
  "nbformat": 4,
  "nbformat_minor": 0,
  "metadata": {
    "colab": {
      "private_outputs": true,
      "provenance": [],
      "authorship_tag": "ABX9TyPeMuTbtRfMqV2N+rwfXivd",
      "include_colab_link": true
    },
    "kernelspec": {
      "name": "python3",
      "display_name": "Python 3"
    },
    "language_info": {
      "name": "python"
    }
  },
  "cells": [
    {
      "cell_type": "markdown",
      "metadata": {
        "id": "view-in-github",
        "colab_type": "text"
      },
      "source": [
        "<a href=\"https://colab.research.google.com/github/ahmedmshakil/test-repo/blob/teammate-1/P01.ipynb\" target=\"_parent\"><img src=\"https://colab.research.google.com/assets/colab-badge.svg\" alt=\"Open In Colab\"/></a>"
      ]
    },
    {
      "cell_type": "code",
      "execution_count": null,
      "metadata": {
        "id": "KhRnL7En7S2K"
      },
      "outputs": [],
      "source": [
        "class Node:\n",
        "    def __init__(self, data):\n",
        "        self.data = data\n",
        "        self.next = None"
      ]
    },
    {
      "cell_type": "code",
      "source": [
        "class SLL:\n",
        "    def __init__(self):\n",
        "        self.head = None\n",
        "\n",
        "    def append_left(self, data):   # insert at head\n",
        "        new_node = Node(data)\n",
        "        new_node.next = self.head\n",
        "\n",
        "        self.head = new_node\n",
        "\n",
        "    def print_list(self):\n",
        "        cur = self.head\n",
        "        while cur is not None:\n",
        "            print(cur.data, end = '->')\n",
        "            cur = cur.next\n",
        "        print(\"List is empty\")"
      ],
      "metadata": {
        "id": "UxDjskrg7jzj"
      },
      "execution_count": null,
      "outputs": []
    },
    {
      "cell_type": "code",
      "source": [
        "A = SLL()\n",
        "A.append_left(11)\n",
        "A.append_left(10)\n",
        "A.append_left(6)\n",
        "A.append_left(7)\n",
        "print(\"The list is:\")\n",
        "A.print_list()\n"
      ],
      "metadata": {
        "id": "2za-Opkn7jwz"
      },
      "execution_count": null,
      "outputs": []
    },
    {
      "cell_type": "code",
      "source": [],
      "metadata": {
        "id": "dEOsCiJe7jtU"
      },
      "execution_count": null,
      "outputs": []
    },
    {
      "cell_type": "code",
      "source": [],
      "metadata": {
        "id": "JN3wFV7Y7jpp"
      },
      "execution_count": null,
      "outputs": []
    },
    {
      "cell_type": "code",
      "source": [],
      "metadata": {
        "id": "xbO3JIsv7jfq"
      },
      "execution_count": null,
      "outputs": []
    }
  ]
}